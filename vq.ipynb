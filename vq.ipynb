{
 "cells": [
  {
   "cell_type": "code",
   "execution_count": 1,
   "metadata": {},
   "outputs": [],
   "source": [
    "import pyspark\n",
    "from pyspark.sql import SparkSession"
   ]
  },
  {
   "cell_type": "code",
   "execution_count": 2,
   "metadata": {},
   "outputs": [],
   "source": [
    "from pyspark.ml.feature import OneHotEncoder, StringIndexer, VectorAssembler"
   ]
  },
  {
   "cell_type": "code",
   "execution_count": 3,
   "metadata": {},
   "outputs": [
    {
     "data": {
      "text/html": [
       "\n",
       "            <div>\n",
       "                <p><b>SparkSession - in-memory</b></p>\n",
       "                \n",
       "        <div>\n",
       "            <p><b>SparkContext</b></p>\n",
       "\n",
       "            <p><a href=\"http://LAPTOP-AOKBCEGS:4040\">Spark UI</a></p>\n",
       "\n",
       "            <dl>\n",
       "              <dt>Version</dt>\n",
       "                <dd><code>v3.5.1</code></dd>\n",
       "              <dt>Master</dt>\n",
       "                <dd><code>local[*]</code></dd>\n",
       "              <dt>AppName</dt>\n",
       "                <dd><code>v1</code></dd>\n",
       "            </dl>\n",
       "        </div>\n",
       "        \n",
       "            </div>\n",
       "        "
      ],
      "text/plain": [
       "<pyspark.sql.session.SparkSession at 0x172d8541a50>"
      ]
     },
     "execution_count": 3,
     "metadata": {},
     "output_type": "execute_result"
    }
   ],
   "source": [
    "sesh=pyspark.sql.SparkSession.builder.appName('v1').getOrCreate()\n",
    "sesh"
   ]
  },
  {
   "cell_type": "code",
   "execution_count": 4,
   "metadata": {},
   "outputs": [],
   "source": [
    "df=sesh.read.option('header','true').csv('Crop_recommendation.csv',inferSchema=True)"
   ]
  },
  {
   "cell_type": "code",
   "execution_count": 5,
   "metadata": {},
   "outputs": [
    {
     "name": "stdout",
     "output_type": "stream",
     "text": [
      "root\n",
      " |-- N: integer (nullable = true)\n",
      " |-- P: integer (nullable = true)\n",
      " |-- K: integer (nullable = true)\n",
      " |-- temperature: double (nullable = true)\n",
      " |-- humidity: double (nullable = true)\n",
      " |-- ph: double (nullable = true)\n",
      " |-- rainfall: double (nullable = true)\n",
      " |-- label: string (nullable = true)\n",
      "\n"
     ]
    }
   ],
   "source": [
    "df.printSchema()"
   ]
  },
  {
   "cell_type": "code",
   "execution_count": 6,
   "metadata": {},
   "outputs": [
    {
     "name": "stdout",
     "output_type": "stream",
     "text": [
      "+-------+------------------+-----------------+------------------+------------------+------------------+------------------+------------------+----------+\n",
      "|summary|                 N|                P|                 K|       temperature|          humidity|                ph|          rainfall|     label|\n",
      "+-------+------------------+-----------------+------------------+------------------+------------------+------------------+------------------+----------+\n",
      "|  count|              2200|             2200|              2200|              2200|              2200|              2200|              2200|      2200|\n",
      "|   mean|50.551818181818184|53.36272727272727| 48.14909090909091|25.616243851779533| 71.48177921778648| 6.469480065256369|103.46365541576832|      NULL|\n",
      "| stddev|36.917333833756594|32.98588273858713|50.647930546660135|5.0637485999588545|22.263811589761104|0.7739376880298732|54.958388524878174|      NULL|\n",
      "|    min|                 0|                5|                 5|       8.825674745|       14.25803981|       3.504752314|       20.21126747|     apple|\n",
      "|    max|               140|              145|               205|       43.67549305|       99.98187601|        9.93509073|       298.5601175|watermelon|\n",
      "+-------+------------------+-----------------+------------------+------------------+------------------+------------------+------------------+----------+\n",
      "\n"
     ]
    }
   ],
   "source": [
    "df.describe().show()"
   ]
  },
  {
   "cell_type": "code",
   "execution_count": 7,
   "metadata": {},
   "outputs": [],
   "source": [
    "df_cleaned=df.na.drop()"
   ]
  },
  {
   "cell_type": "code",
   "execution_count": 8,
   "metadata": {},
   "outputs": [
    {
     "name": "stdout",
     "output_type": "stream",
     "text": [
      "+-------+------------------+-----------------+------------------+------------------+------------------+------------------+------------------+----------+\n",
      "|summary|                 N|                P|                 K|       temperature|          humidity|                ph|          rainfall|     label|\n",
      "+-------+------------------+-----------------+------------------+------------------+------------------+------------------+------------------+----------+\n",
      "|  count|              2200|             2200|              2200|              2200|              2200|              2200|              2200|      2200|\n",
      "|   mean|50.551818181818184|53.36272727272727| 48.14909090909091|25.616243851779533| 71.48177921778648| 6.469480065256369|103.46365541576832|      NULL|\n",
      "| stddev|36.917333833756594|32.98588273858713|50.647930546660135|5.0637485999588545|22.263811589761104|0.7739376880298732|54.958388524878174|      NULL|\n",
      "|    min|                 0|                5|                 5|       8.825674745|       14.25803981|       3.504752314|       20.21126747|     apple|\n",
      "|    max|               140|              145|               205|       43.67549305|       99.98187601|        9.93509073|       298.5601175|watermelon|\n",
      "+-------+------------------+-----------------+------------------+------------------+------------------+------------------+------------------+----------+\n",
      "\n"
     ]
    }
   ],
   "source": [
    "df_cleaned.describe().show()"
   ]
  },
  {
   "cell_type": "code",
   "execution_count": 9,
   "metadata": {},
   "outputs": [
    {
     "name": "stdout",
     "output_type": "stream",
     "text": [
      "+---+---+---+-----------+-----------------+------------------+------------------+-----+--------------------+\n",
      "|  N|  P|  K|temperature|         humidity|                ph|          rainfall|label|            features|\n",
      "+---+---+---+-----------+-----------------+------------------+------------------+-----+--------------------+\n",
      "| 90| 42| 43|20.87974371|      82.00274423| 6.502985292000001|       202.9355362| rice|[90.0,42.0,43.0,2...|\n",
      "| 85| 58| 41|21.77046169|      80.31964408|       7.038096361|       226.6555374| rice|[85.0,58.0,41.0,2...|\n",
      "| 60| 55| 44|23.00445915|       82.3207629|       7.840207144|       263.9642476| rice|[60.0,55.0,44.0,2...|\n",
      "| 74| 35| 40|26.49109635|      80.15836264|       6.980400905|       242.8640342| rice|[74.0,35.0,40.0,2...|\n",
      "| 78| 42| 42|20.13017482|      81.60487287|       7.628472891|       262.7173405| rice|[78.0,42.0,42.0,2...|\n",
      "| 69| 37| 42|23.05804872|      83.37011772|       7.073453503|       251.0549998| rice|[69.0,37.0,42.0,2...|\n",
      "| 69| 55| 38|22.70883798|      82.63941394|        5.70080568|       271.3248604| rice|[69.0,55.0,38.0,2...|\n",
      "| 94| 53| 40|20.27774362|      82.89408619| 5.718627177999999|       241.9741949| rice|[94.0,53.0,40.0,2...|\n",
      "| 89| 54| 38|24.51588066|83.53521629999999|       6.685346424|       230.4462359| rice|[89.0,54.0,38.0,2...|\n",
      "| 68| 58| 38|23.22397386|      83.03322691|       6.336253525|       221.2091958| rice|[68.0,58.0,38.0,2...|\n",
      "| 91| 53| 40|26.52723513|      81.41753846|       5.386167788|       264.6148697| rice|[91.0,53.0,40.0,2...|\n",
      "| 90| 46| 42|23.97898217|      81.45061596|        7.50283396|       250.0832336| rice|[90.0,46.0,42.0,2...|\n",
      "| 78| 58| 44|26.80079604|      80.88684822|       5.108681786|       284.4364567| rice|[78.0,58.0,44.0,2...|\n",
      "| 93| 56| 36|24.01497622|      82.05687182|        6.98435366|       185.2773389| rice|[93.0,56.0,36.0,2...|\n",
      "| 94| 50| 37|25.66585205|      80.66385045|        6.94801983|       209.5869708| rice|[94.0,50.0,37.0,2...|\n",
      "| 60| 48| 39|24.28209415|      80.30025587|7.0422990689999985|       231.0863347| rice|[60.0,48.0,39.0,2...|\n",
      "| 85| 38| 41|21.58711777|       82.7883708|6.2490506560000005|276.65524589999995| rice|[85.0,38.0,41.0,2...|\n",
      "| 91| 35| 39|23.79391957|      80.41817957|       6.970859754|       206.2611855| rice|[91.0,35.0,39.0,2...|\n",
      "| 77| 38| 36| 21.8652524|       80.1923008|       5.953933276|224.55501690000003| rice|[77.0,38.0,36.0,2...|\n",
      "| 88| 35| 40|23.57943626|      83.58760316|        5.85393208| 291.2986618000001| rice|[88.0,35.0,40.0,2...|\n",
      "+---+---+---+-----------+-----------------+------------------+------------------+-----+--------------------+\n",
      "only showing top 20 rows\n",
      "\n"
     ]
    }
   ],
   "source": [
    "columns = df.columns\n",
    "feature_columns = columns[:-1]\n",
    "\n",
    "assembler = VectorAssembler(inputCols=feature_columns, outputCol=\"features\")\n",
    "\n",
    "df_assembled = assembler.transform(df)\n",
    "df_assembled.show()"
   ]
  },
  {
   "cell_type": "code",
   "execution_count": 24,
   "metadata": {},
   "outputs": [
    {
     "name": "stdout",
     "output_type": "stream",
     "text": [
      "+---+---+---+-----------+-----------------+------------------+------------------+-----+--------------------+-------------+\n",
      "|  N|  P|  K|temperature|         humidity|                ph|          rainfall|label|            features|label_indexed|\n",
      "+---+---+---+-----------+-----------------+------------------+------------------+-----+--------------------+-------------+\n",
      "| 90| 42| 43|20.87974371|      82.00274423| 6.502985292000001|       202.9355362| rice|[90.0,42.0,43.0,2...|         20.0|\n",
      "| 85| 58| 41|21.77046169|      80.31964408|       7.038096361|       226.6555374| rice|[85.0,58.0,41.0,2...|         20.0|\n",
      "| 60| 55| 44|23.00445915|       82.3207629|       7.840207144|       263.9642476| rice|[60.0,55.0,44.0,2...|         20.0|\n",
      "| 74| 35| 40|26.49109635|      80.15836264|       6.980400905|       242.8640342| rice|[74.0,35.0,40.0,2...|         20.0|\n",
      "| 78| 42| 42|20.13017482|      81.60487287|       7.628472891|       262.7173405| rice|[78.0,42.0,42.0,2...|         20.0|\n",
      "| 69| 37| 42|23.05804872|      83.37011772|       7.073453503|       251.0549998| rice|[69.0,37.0,42.0,2...|         20.0|\n",
      "| 69| 55| 38|22.70883798|      82.63941394|        5.70080568|       271.3248604| rice|[69.0,55.0,38.0,2...|         20.0|\n",
      "| 94| 53| 40|20.27774362|      82.89408619| 5.718627177999999|       241.9741949| rice|[94.0,53.0,40.0,2...|         20.0|\n",
      "| 89| 54| 38|24.51588066|83.53521629999999|       6.685346424|       230.4462359| rice|[89.0,54.0,38.0,2...|         20.0|\n",
      "| 68| 58| 38|23.22397386|      83.03322691|       6.336253525|       221.2091958| rice|[68.0,58.0,38.0,2...|         20.0|\n",
      "| 91| 53| 40|26.52723513|      81.41753846|       5.386167788|       264.6148697| rice|[91.0,53.0,40.0,2...|         20.0|\n",
      "| 90| 46| 42|23.97898217|      81.45061596|        7.50283396|       250.0832336| rice|[90.0,46.0,42.0,2...|         20.0|\n",
      "| 78| 58| 44|26.80079604|      80.88684822|       5.108681786|       284.4364567| rice|[78.0,58.0,44.0,2...|         20.0|\n",
      "| 93| 56| 36|24.01497622|      82.05687182|        6.98435366|       185.2773389| rice|[93.0,56.0,36.0,2...|         20.0|\n",
      "| 94| 50| 37|25.66585205|      80.66385045|        6.94801983|       209.5869708| rice|[94.0,50.0,37.0,2...|         20.0|\n",
      "| 60| 48| 39|24.28209415|      80.30025587|7.0422990689999985|       231.0863347| rice|[60.0,48.0,39.0,2...|         20.0|\n",
      "| 85| 38| 41|21.58711777|       82.7883708|6.2490506560000005|276.65524589999995| rice|[85.0,38.0,41.0,2...|         20.0|\n",
      "| 91| 35| 39|23.79391957|      80.41817957|       6.970859754|       206.2611855| rice|[91.0,35.0,39.0,2...|         20.0|\n",
      "| 77| 38| 36| 21.8652524|       80.1923008|       5.953933276|224.55501690000003| rice|[77.0,38.0,36.0,2...|         20.0|\n",
      "| 88| 35| 40|23.57943626|      83.58760316|        5.85393208| 291.2986618000001| rice|[88.0,35.0,40.0,2...|         20.0|\n",
      "+---+---+---+-----------+-----------------+------------------+------------------+-----+--------------------+-------------+\n",
      "only showing top 20 rows\n",
      "\n"
     ]
    }
   ],
   "source": [
    "# StringIndexer\n",
    "indexer = StringIndexer(inputCol=\"label\", outputCol=\"label_indexed\")\n",
    "df_indexed = indexer.fit(df_assembled).transform(df_assembled)\n",
    "\n",
    "# OneHotEncoder\n",
    "# encoder = OneHotEncoder(inputCols=[\"label_indexed\"], outputCols=[\"label_encoded\"])\n",
    "# df_encoded = encoder.fit(df_indexed).transform(df_indexed)\n",
    "\n",
    "df_indexed.show()\n"
   ]
  },
  {
   "cell_type": "code",
   "execution_count": 25,
   "metadata": {},
   "outputs": [
    {
     "name": "stdout",
     "output_type": "stream",
     "text": [
      "+--------------------+-------------+\n",
      "|            features|label_indexed|\n",
      "+--------------------+-------------+\n",
      "|[90.0,42.0,43.0,2...|         20.0|\n",
      "|[85.0,58.0,41.0,2...|         20.0|\n",
      "|[60.0,55.0,44.0,2...|         20.0|\n",
      "|[74.0,35.0,40.0,2...|         20.0|\n",
      "|[78.0,42.0,42.0,2...|         20.0|\n",
      "|[69.0,37.0,42.0,2...|         20.0|\n",
      "|[69.0,55.0,38.0,2...|         20.0|\n",
      "|[94.0,53.0,40.0,2...|         20.0|\n",
      "|[89.0,54.0,38.0,2...|         20.0|\n",
      "|[68.0,58.0,38.0,2...|         20.0|\n",
      "|[91.0,53.0,40.0,2...|         20.0|\n",
      "|[90.0,46.0,42.0,2...|         20.0|\n",
      "|[78.0,58.0,44.0,2...|         20.0|\n",
      "|[93.0,56.0,36.0,2...|         20.0|\n",
      "|[94.0,50.0,37.0,2...|         20.0|\n",
      "|[60.0,48.0,39.0,2...|         20.0|\n",
      "|[85.0,38.0,41.0,2...|         20.0|\n",
      "|[91.0,35.0,39.0,2...|         20.0|\n",
      "|[77.0,38.0,36.0,2...|         20.0|\n",
      "|[88.0,35.0,40.0,2...|         20.0|\n",
      "+--------------------+-------------+\n",
      "only showing top 20 rows\n",
      "\n"
     ]
    }
   ],
   "source": [
    "df_final = df_indexed.select(\"features\", \"label_indexed\")\n",
    "df_final.show()"
   ]
  },
  {
   "cell_type": "code",
   "execution_count": 26,
   "metadata": {},
   "outputs": [],
   "source": [
    "train_ratio = 0.7\n",
    "test_ratio = 0.3\n",
    "\n",
    "train_df, test_df = df_final.randomSplit([train_ratio, test_ratio], seed=42)"
   ]
  },
  {
   "cell_type": "code",
   "execution_count": 27,
   "metadata": {},
   "outputs": [],
   "source": [
    "from pyspark.ml.classification import RandomForestClassifier\n",
    "\n",
    "# Create a RandomForestClassifier object\n",
    "rf = RandomForestClassifier(featuresCol=\"features\", labelCol=\"label_indexed\")\n",
    "\n",
    "# Train the model\n",
    "rf_model = rf.fit(train_df)\n"
   ]
  },
  {
   "cell_type": "code",
   "execution_count": 28,
   "metadata": {},
   "outputs": [
    {
     "name": "stdout",
     "output_type": "stream",
     "text": [
      "Accuracy: 0.973421926910299\n",
      "Precision: 0.9789261664261663\n",
      "Recall: 0.9734219269102988\n"
     ]
    }
   ],
   "source": [
    "from pyspark.ml.evaluation import MulticlassClassificationEvaluator\n",
    "\n",
    "predictions = rf_model.transform(test_df)\n",
    "\n",
    "\n",
    "evaluator = MulticlassClassificationEvaluator(labelCol=\"label_indexed\", predictionCol=\"prediction\", metricName=\"accuracy\")\n",
    "accuracy = evaluator.evaluate(predictions)\n",
    "\n",
    "evaluator = MulticlassClassificationEvaluator(labelCol=\"label_indexed\", predictionCol=\"prediction\", metricName=\"weightedPrecision\")\n",
    "precision = evaluator.evaluate(predictions)\n",
    "\n",
    "evaluator = MulticlassClassificationEvaluator(labelCol=\"label_indexed\", predictionCol=\"prediction\", metricName=\"weightedRecall\")\n",
    "recall = evaluator.evaluate(predictions)\n",
    "\n",
    "print(\"Accuracy:\", accuracy)\n",
    "print(\"Precision:\", precision)\n",
    "print(\"Recall:\", recall)\n",
    "\n"
   ]
  }
 ],
 "metadata": {
  "kernelspec": {
   "display_name": "venv",
   "language": "python",
   "name": "python3"
  },
  "language_info": {
   "codemirror_mode": {
    "name": "ipython",
    "version": 3
   },
   "file_extension": ".py",
   "mimetype": "text/x-python",
   "name": "python",
   "nbconvert_exporter": "python",
   "pygments_lexer": "ipython3",
   "version": "3.11.0"
  }
 },
 "nbformat": 4,
 "nbformat_minor": 2
}
